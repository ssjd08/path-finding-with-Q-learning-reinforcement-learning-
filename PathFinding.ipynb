{
 "cells": [
  {
   "cell_type": "code",
   "execution_count": 149,
   "metadata": {},
   "outputs": [],
   "source": [
    "#import libraries\n",
    "import networkx as nx\n",
    "import matplotlib.pyplot as plt\n",
    "import numpy as np"
   ]
  },
  {
   "cell_type": "code",
   "execution_count": 150,
   "metadata": {},
   "outputs": [],
   "source": [
    "#initial Graph\n",
    "nodes = [\"A\", \"B\", \"C\", \"D\", \"F\", \"G\", \"K\"]\n",
    "edges = [(\"A\", \"B\", 12), (\"B\", \"C\", 5), (\"B\", \"F\", 1), (\"F\", \"G\", 14), (\"A\", \"C\", 9), (\"F\", \"K\", 17), (\"D\", \"K\", 4), (\"G\", \"B\", 4), (\"F\", \"C\", 17), (\"A\", \"K\",11)]\n",
    "\n",
    "G = nx.Graph()\n",
    "G.add_nodes_from(nodes)\n",
    "G.add_weighted_edges_from(edges)\n",
    "\n",
    "# Add the reverse edges to make the graph undirected\n",
    "for edge in edges:\n",
    "    G.add_edge(edge[1], edge[0], weight=edge[2])\n",
    "\n",
    "pos = nx.spring_layout(G)"
   ]
  },
  {
   "cell_type": "code",
   "execution_count": 151,
   "metadata": {},
   "outputs": [
    {
     "data": {
      "image/png": "[encoded data removed]",
      "text/plain": [
       "<Figure size 640x480 with 1 Axes>"
      ]
     },
     "metadata": {},
     "output_type": "display_data"
    }
   ],
   "source": [
    "#showing graph\n",
    "# nx.draw(G, pos, with_labels=True)\n",
    "nx.draw_networkx_nodes(G, pos, nodes, node_size=300)\n",
    "nx.draw_networkx_edges(G, pos, edges)\n",
    "nx.draw_networkx_labels(G, pos, font_color=\"white\")\n",
    "plt.title(\"Graph with Nodes and Edges\")\n",
    "plt.margins(0.2)\n",
    "plt.show()"
   ]
  },
  {
   "cell_type": "code",
   "execution_count": 152,
   "metadata": {},
   "outputs": [
    {
     "name": "stdout",
     "output_type": "stream",
     "text": [
      "#states = 7, #action = 10.\n"
     ]
    }
   ],
   "source": [
    "#initail Q table, stats and actions\n",
    "\n",
    "#states = nodes\n",
    "state_numbers = len(G.nodes)\n",
    "action_numbers = len(G.edges)\n",
    "Q = np.zeros((state_numbers, action_numbers))\n",
    "print(f\"#states = {state_numbers}, #action = {action_numbers}.\")"
   ]
  },
  {
   "cell_type": "code",
   "execution_count": 153,
   "metadata": {},
   "outputs": [
    {
     "name": "stdout",
     "output_type": "stream",
     "text": [
      "True\n",
      "12\n"
     ]
    }
   ],
   "source": [
    "print(G.has_edge(\"A\", \"B\"))\n",
    "print(G[\"A\"][\"B\"][\"weight\"])"
   ]
  },
  {
   "cell_type": "code",
   "execution_count": 154,
   "metadata": {},
   "outputs": [],
   "source": [
    "#defining Parameters\n",
    "alpha = 0.1  # Learning rate\n",
    "gamma = 0.9  # Discount factor\n",
    "epsilon = 0.1  # Epsilon-greedy exploration parameter"
   ]
  },
  {
   "cell_type": "code",
   "execution_count": 155,
   "metadata": {},
   "outputs": [],
   "source": [
    "#define the start state and end state\n",
    "start_state = \"A\"\n",
    "goal_state = \"C\""
   ]
  },
  {
   "cell_type": "code",
   "execution_count": 156,
   "metadata": {},
   "outputs": [
    {
     "name": "stdout",
     "output_type": "stream",
     "text": [
      "[[0. 0. 0. 0. 0. 0. 0. 0. 0. 0.]\n",
      " [0. 0. 0. 0. 0. 0. 0. 0. 0. 0.]\n",
      " [0. 0. 0. 0. 0. 0. 0. 0. 0. 0.]\n",
      " [0. 0. 0. 0. 0. 0. 0. 0. 0. 0.]\n",
      " [0. 0. 0. 0. 0. 0. 0. 0. 0. 0.]\n",
      " [0. 0. 0. 0. 0. 0. 0. 0. 0. 0.]\n",
      " [0. 0. 0. 0. 0. 0. 0. 0. 0. 0.]]\n"
     ]
    }
   ],
   "source": [
    "print(Q)"
   ]
  },
  {
   "cell_type": "code",
   "execution_count": 157,
   "metadata": {},
   "outputs": [],
   "source": [
    "#calculate the reward\n",
    "def calculate_reward(state, next_state, graph):\n",
    "    if graph.has_edge(state, next_state):\n",
    "        weight = graph[state][next_state]['weight']\n",
    "        return -weight\n",
    "    \n",
    "    else:\n",
    "        return -1000"
   ]
  },
  {
   "cell_type": "code",
   "execution_count": 158,
   "metadata": {},
   "outputs": [],
   "source": [
    "# Create a list of all edges (including reverse edges)\n",
    "all_edges = list(G.edges) + [(v, u) for u, v in G.edges]"
   ]
  },
  {
   "cell_type": "code",
   "execution_count": 159,
   "metadata": {},
   "outputs": [],
   "source": [
    "def get_action(state, epsilon, neighbors, Q, all_edges):\n",
    "    if np.random.uniform(0, 1) < epsilon:\n",
    "        # Choose a random neighbor\n",
    "        next_state = np.random.choice(neighbors)\n",
    "        return (state, next_state)\n",
    "    else:\n",
    "        # Choose the neighbor with the maximum Q-value\n",
    "        state_index = list(G.nodes).index(state)\n",
    "        neighbor_indices = [list(G.nodes).index(n) for n in neighbors]\n",
    "        neighbor_q_values = [Q[state_index][all_edges.index((state, n))] for n in neighbors]\n",
    "        max_q_index = neighbor_indices[np.argmax(neighbor_q_values)]\n",
    "        next_state = list(G.nodes)[max_q_index]\n",
    "        return (state, next_state)"
   ]
  },
  {
   "cell_type": "code",
   "execution_count": 160,
   "metadata": {},
   "outputs": [],
   "source": [
    "#every episode algorithm\n",
    "def trip(start_state, goal_state, graph, Q, all_edges):\n",
    "    state = start_state\n",
    "    while state != goal_state:\n",
    "        neighbors = list(graph.neighbors(state))\n",
    "        action = get_action(state, epsilon, neighbors, Q, all_edges)\n",
    "        state, next_state = action\n",
    "        if next_state not in graph.nodes:\n",
    "            continue  # Skip this iteration if next_state is not a valid node\n",
    "        reward = calculate_reward(state, next_state, graph)\n",
    "        state_index = list(G.nodes).index(state)\n",
    "        next_state_index = list(G.nodes).index(next_state)\n",
    "        action_index = all_edges.index((state, next_state))\n",
    "        Q[state_index][action_index] += alpha * (reward + gamma * np.max(Q[next_state_index]) - Q[state_index][action_index])\n",
    "        state = next_state"
   ]
  },
  {
   "cell_type": "code",
   "execution_count": 161,
   "metadata": {},
   "outputs": [
    {
     "ename": "IndexError",
     "evalue": "index 10 is out of bounds for axis 0 with size 10",
     "output_type": "error",
     "traceback": [
      "\u001b[1;31m---------------------------------------------------------------------------\u001b[0m",
      "\u001b[1;31mIndexError\u001b[0m                                Traceback (most recent call last)",
      "Cell \u001b[1;32mIn[161], line 4\u001b[0m\n\u001b[0;32m      2\u001b[0m num_episodes \u001b[38;5;241m=\u001b[39m \u001b[38;5;241m1000\u001b[39m\n\u001b[0;32m      3\u001b[0m \u001b[38;5;28;01mfor\u001b[39;00m _ \u001b[38;5;129;01min\u001b[39;00m \u001b[38;5;28mrange\u001b[39m(num_episodes):\n\u001b[1;32m----> 4\u001b[0m     \u001b[43mtrip\u001b[49m\u001b[43m(\u001b[49m\u001b[43mstart_state\u001b[49m\u001b[43m,\u001b[49m\u001b[43m \u001b[49m\u001b[43mgoal_state\u001b[49m\u001b[43m,\u001b[49m\u001b[43m \u001b[49m\u001b[43mG\u001b[49m\u001b[43m,\u001b[49m\u001b[43m \u001b[49m\u001b[43mQ\u001b[49m\u001b[43m,\u001b[49m\u001b[43m \u001b[49m\u001b[43mall_edges\u001b[49m\u001b[43m)\u001b[49m\n",
      "Cell \u001b[1;32mIn[160], line 6\u001b[0m, in \u001b[0;36mtrip\u001b[1;34m(start_state, goal_state, graph, Q, all_edges)\u001b[0m\n\u001b[0;32m      4\u001b[0m \u001b[38;5;28;01mwhile\u001b[39;00m state \u001b[38;5;241m!=\u001b[39m goal_state:\n\u001b[0;32m      5\u001b[0m     neighbors \u001b[38;5;241m=\u001b[39m \u001b[38;5;28mlist\u001b[39m(graph\u001b[38;5;241m.\u001b[39mneighbors(state))\n\u001b[1;32m----> 6\u001b[0m     action \u001b[38;5;241m=\u001b[39m \u001b[43mget_action\u001b[49m\u001b[43m(\u001b[49m\u001b[43mstate\u001b[49m\u001b[43m,\u001b[49m\u001b[43m \u001b[49m\u001b[43mepsilon\u001b[49m\u001b[43m,\u001b[49m\u001b[43m \u001b[49m\u001b[43mneighbors\u001b[49m\u001b[43m,\u001b[49m\u001b[43m \u001b[49m\u001b[43mQ\u001b[49m\u001b[43m,\u001b[49m\u001b[43m \u001b[49m\u001b[43mall_edges\u001b[49m\u001b[43m)\u001b[49m\n\u001b[0;32m      7\u001b[0m     state, next_state \u001b[38;5;241m=\u001b[39m action\n\u001b[0;32m      8\u001b[0m     \u001b[38;5;28;01mif\u001b[39;00m next_state \u001b[38;5;129;01mnot\u001b[39;00m \u001b[38;5;129;01min\u001b[39;00m graph\u001b[38;5;241m.\u001b[39mnodes:\n",
      "Cell \u001b[1;32mIn[159], line 10\u001b[0m, in \u001b[0;36mget_action\u001b[1;34m(state, epsilon, neighbors, Q, all_edges)\u001b[0m\n\u001b[0;32m      8\u001b[0m state_index \u001b[38;5;241m=\u001b[39m \u001b[38;5;28mlist\u001b[39m(G\u001b[38;5;241m.\u001b[39mnodes)\u001b[38;5;241m.\u001b[39mindex(state)\n\u001b[0;32m      9\u001b[0m neighbor_indices \u001b[38;5;241m=\u001b[39m [\u001b[38;5;28mlist\u001b[39m(G\u001b[38;5;241m.\u001b[39mnodes)\u001b[38;5;241m.\u001b[39mindex(n) \u001b[38;5;28;01mfor\u001b[39;00m n \u001b[38;5;129;01min\u001b[39;00m neighbors]\n\u001b[1;32m---> 10\u001b[0m neighbor_q_values \u001b[38;5;241m=\u001b[39m [Q[state_index][all_edges\u001b[38;5;241m.\u001b[39mindex((state, n))] \u001b[38;5;28;01mfor\u001b[39;00m n \u001b[38;5;129;01min\u001b[39;00m neighbors]\n\u001b[0;32m     11\u001b[0m max_q_index \u001b[38;5;241m=\u001b[39m neighbor_indices[np\u001b[38;5;241m.\u001b[39margmax(neighbor_q_values)]\n\u001b[0;32m     12\u001b[0m next_state \u001b[38;5;241m=\u001b[39m \u001b[38;5;28mlist\u001b[39m(G\u001b[38;5;241m.\u001b[39mnodes)[max_q_index]\n",
      "Cell \u001b[1;32mIn[159], line 10\u001b[0m, in \u001b[0;36m<listcomp>\u001b[1;34m(.0)\u001b[0m\n\u001b[0;32m      8\u001b[0m state_index \u001b[38;5;241m=\u001b[39m \u001b[38;5;28mlist\u001b[39m(G\u001b[38;5;241m.\u001b[39mnodes)\u001b[38;5;241m.\u001b[39mindex(state)\n\u001b[0;32m      9\u001b[0m neighbor_indices \u001b[38;5;241m=\u001b[39m [\u001b[38;5;28mlist\u001b[39m(G\u001b[38;5;241m.\u001b[39mnodes)\u001b[38;5;241m.\u001b[39mindex(n) \u001b[38;5;28;01mfor\u001b[39;00m n \u001b[38;5;129;01min\u001b[39;00m neighbors]\n\u001b[1;32m---> 10\u001b[0m neighbor_q_values \u001b[38;5;241m=\u001b[39m [\u001b[43mQ\u001b[49m\u001b[43m[\u001b[49m\u001b[43mstate_index\u001b[49m\u001b[43m]\u001b[49m\u001b[43m[\u001b[49m\u001b[43mall_edges\u001b[49m\u001b[38;5;241;43m.\u001b[39;49m\u001b[43mindex\u001b[49m\u001b[43m(\u001b[49m\u001b[43m(\u001b[49m\u001b[43mstate\u001b[49m\u001b[43m,\u001b[49m\u001b[43m \u001b[49m\u001b[43mn\u001b[49m\u001b[43m)\u001b[49m\u001b[43m)\u001b[49m\u001b[43m]\u001b[49m \u001b[38;5;28;01mfor\u001b[39;00m n \u001b[38;5;129;01min\u001b[39;00m neighbors]\n\u001b[0;32m     11\u001b[0m max_q_index \u001b[38;5;241m=\u001b[39m neighbor_indices[np\u001b[38;5;241m.\u001b[39margmax(neighbor_q_values)]\n\u001b[0;32m     12\u001b[0m next_state \u001b[38;5;241m=\u001b[39m \u001b[38;5;28mlist\u001b[39m(G\u001b[38;5;241m.\u001b[39mnodes)[max_q_index]\n",
      "\u001b[1;31mIndexError\u001b[0m: index 10 is out of bounds for axis 0 with size 10"
     ]
    }
   ],
   "source": [
    "#Q-learning algorithm\n",
    "num_episodes = 1000\n",
    "for _ in range(num_episodes):\n",
    "    trip(start_state, goal_state, G, Q, all_edges)"
   ]
  },
  {
   "cell_type": "code",
   "execution_count": null,
   "metadata": {},
   "outputs": [],
   "source": [
    "def extract_policy(Q, nodes):\n",
    "    policy = {}\n",
    "    for i, node in enumerate(nodes):\n",
    "        policy[node] = nodes[np.argmax(Q[i])]\n",
    "    return policy\n",
    "\n",
    "policy = extract_policy(Q, list(G.nodes))\n",
    "print(\"Optimal Policy:\", policy)\n"
   ]
  }
 ],
 "metadata": {
  "kernelspec": {
   "display_name": "venv",
   "language": "python",
   "name": "python3"
  },
  "language_info": {
   "codemirror_mode": {
    "name": "ipython",
    "version": 3
   },
   "file_extension": ".py",
   "mimetype": "text/x-python",
   "name": "python",
   "nbconvert_exporter": "python",
   "pygments_lexer": "ipython3",
   "version": "3.10.4"
  }
 },
 "nbformat": 4,
 "nbformat_minor": 2
}
